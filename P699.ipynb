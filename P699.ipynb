{
  "nbformat": 4,
  "nbformat_minor": 0,
  "metadata": {
    "accelerator": "GPU",
    "colab": {
      "provenance": [],
      "include_colab_link": true
    },
    "kernelspec": {
      "display_name": "Python 3",
      "name": "python3"
    },
    "language_info": {
      "name": "python"
    }
  },
  "cells": [
    {
      "cell_type": "markdown",
      "metadata": {
        "id": "view-in-github",
        "colab_type": "text"
      },
      "source": [
        "<a href=\"https://colab.research.google.com/github/kowshikkumarb/COVID19-Pneumonia-Detection/blob/main/P699.ipynb\" target=\"_parent\"><img src=\"https://colab.research.google.com/assets/colab-badge.svg\" alt=\"Open In Colab\"/></a>"
      ]
    },
    {
      "cell_type": "code",
      "metadata": {
        "id": "drUDc302xSKQ"
      },
      "source": [
        "import numpy as np\n",
        "import pandas as pd\n",
        "import matplotlib.pyplot as plt\n",
        "import keras\n",
        "import tensorflow as tf\n",
        "from keras.preprocessing.image import ImageDataGenerator\n",
        "from keras.models import Sequential, Model\n",
        "from keras.layers import Conv2D, MaxPooling2D\n",
        "from keras.layers import Activation, BatchNormalization,ZeroPadding2D, Dropout, Flatten, Dense\n",
        "from keras.optimizers import Adam, SGD\n",
        "from keras import regularizers"
      ],
      "execution_count": null,
      "outputs": []
    },
    {
      "cell_type": "code",
      "metadata": {
        "id": "LvwxBXvF5asQ",
        "colab": {
          "base_uri": "https://localhost:8080/"
        },
        "outputId": "a47eae09-b072-468d-b7ea-b793bb0cd60c"
      },
      "source": [
        "from google.colab import drive\n",
        "drive.mount('/content/gdrive')"
      ],
      "execution_count": null,
      "outputs": [
        {
          "output_type": "stream",
          "text": [
            "Mounted at /content/gdrive\n"
          ],
          "name": "stdout"
        }
      ]
    },
    {
      "cell_type": "code",
      "metadata": {
        "id": "qRVs5mHfcUAy",
        "colab": {
          "base_uri": "https://localhost:8080/"
        },
        "outputId": "27386056-311f-4b20-ec99-163875f640ae"
      },
      "source": [
        "image_prepro_path = '/content/gdrive/MyDrive/COVID-19_Radiography_Dataset_pp'\n",
        "classes=[\"COVID\",\"Normal\",\"Viral Pneumonia\"]\n",
        "batch_size=16\n",
        "num_of_classes = len(classes)\n",
        "target_size=(255, 255)\n",
        "# Splitting the dataset into 80:20 by ImageGenerator\n",
        "data_generator = ImageDataGenerator(rotation_range=15, horizontal_flip=True, zoom_range=0.15, height_shift_range=0.15, width_shift_range=0.15, shear_range=0.2, fill_mode=\"nearest\", rescale=1./255, validation_split=0.3)\n",
        "# Loading images to train generator\n",
        "train_set = data_generator.flow_from_directory(directory=image_prepro_path,\n",
        "                                              target_size=target_size,\n",
        "                                              class_mode='categorical',\n",
        "                                              subset='training',\n",
        "                                              shuffle=True, classes=classes,\n",
        "                                              batch_size=batch_size,\n",
        "                                               color_mode=\"grayscale\")\n",
        "# Loading images to test generator\n",
        "test_set = data_generator.flow_from_directory(directory=image_prepro_path,\n",
        "                                              target_size=target_size,\n",
        "                                              class_mode='categorical',\n",
        "                                              subset='validation',\n",
        "                                              shuffle=True, classes=classes,\n",
        "                                              batch_size=batch_size\n",
        "                                              ,color_mode=\"grayscale\")"
      ],
      "execution_count": null,
      "outputs": [
        {
          "output_type": "stream",
          "text": [
            "Found 9714 images belonging to 3 classes.\n",
            "Found 4160 images belonging to 3 classes.\n"
          ],
          "name": "stdout"
        }
      ]
    },
    {
      "cell_type": "code",
      "metadata": {
        "id": "kBdJJZqtfxWt"
      },
      "source": [
        "def cnn_covid_model():\n",
        "    model = Sequential()\n",
        "    model.add(Conv2D(32, (3, 3), activation='relu', input_shape=(255, 255, 1)))\n",
        "    model.add(BatchNormalization(axis=-1))\n",
        "    model.add(Conv2D(32, (3, 3), activation='relu',padding='valid'))\n",
        "    model.add(MaxPooling2D((2, 2)))\n",
        "    model.add(Conv2D(64, (3, 3), activation='relu',padding='valid'))\n",
        "    model.add(BatchNormalization(axis=-1))\n",
        "    model.add(Conv2D(64, (3, 3), activation='relu',padding='valid'))\n",
        "    model.add(MaxPooling2D((2, 2)))\n",
        "    model.add(Conv2D(128, (3, 3), activation='relu',padding='valid'))\n",
        "    model.add(BatchNormalization(axis=-1))\n",
        "    model.add(Conv2D(128, (3, 3), activation='relu',padding='valid'))\n",
        "    model.add(MaxPooling2D((2, 2)))\n",
        "    model.add(Flatten())\n",
        "    model.add(Dense(128, activation='relu', kernel_initializer='he_uniform'))\n",
        "    model.add(Dense(128, activation='relu'))\n",
        "    model.add(Dropout(0.5))\n",
        "    model.add(Dense(num_of_classes, activation='softmax'))\n",
        "    opt1 = SGD(lr=0.01, momentum=0.9, decay=0.001)\n",
        "    opt2=Adam(learning_rate=0.0001)\n",
        "    model.compile(optimizer=opt2, loss='categorical_crossentropy', metrics=[\"accuracy\"])\n",
        "    model.summary()\n",
        "    return model"
      ],
      "execution_count": null,
      "outputs": []
    },
    {
      "cell_type": "code",
      "metadata": {
        "id": "bFmydd6Ff0uo",
        "colab": {
          "base_uri": "https://localhost:8080/"
        },
        "outputId": "0099f87e-ae6c-4ead-b6c6-bdbcb5e4f3a8"
      },
      "source": [
        "finalmodel = cnn_covid_model()\n",
        "# fitting the model\n",
        "history = finalmodel.fit_generator(train_set , validation_data=test_set, epochs=15, verbose=2)"
      ],
      "execution_count": null,
      "outputs": [
        {
          "output_type": "stream",
          "text": [
            "/usr/local/lib/python3.7/dist-packages/tensorflow/python/keras/optimizer_v2/optimizer_v2.py:375: UserWarning: The `lr` argument is deprecated, use `learning_rate` instead.\n",
            "  \"The `lr` argument is deprecated, use `learning_rate` instead.\")\n",
            "/usr/local/lib/python3.7/dist-packages/keras/engine/training.py:1915: UserWarning: `Model.fit_generator` is deprecated and will be removed in a future version. Please use `Model.fit`, which supports generators.\n",
            "  warnings.warn('`Model.fit_generator` is deprecated and '\n"
          ],
          "name": "stderr"
        },
        {
          "output_type": "stream",
          "text": [
            "Model: \"sequential\"\n",
            "_________________________________________________________________\n",
            "Layer (type)                 Output Shape              Param #   \n",
            "=================================================================\n",
            "conv2d (Conv2D)              (None, 253, 253, 32)      320       \n",
            "_________________________________________________________________\n",
            "batch_normalization (BatchNo (None, 253, 253, 32)      128       \n",
            "_________________________________________________________________\n",
            "conv2d_1 (Conv2D)            (None, 251, 251, 32)      9248      \n",
            "_________________________________________________________________\n",
            "max_pooling2d (MaxPooling2D) (None, 125, 125, 32)      0         \n",
            "_________________________________________________________________\n",
            "conv2d_2 (Conv2D)            (None, 123, 123, 64)      18496     \n",
            "_________________________________________________________________\n",
            "batch_normalization_1 (Batch (None, 123, 123, 64)      256       \n",
            "_________________________________________________________________\n",
            "conv2d_3 (Conv2D)            (None, 121, 121, 64)      36928     \n",
            "_________________________________________________________________\n",
            "max_pooling2d_1 (MaxPooling2 (None, 60, 60, 64)        0         \n",
            "_________________________________________________________________\n",
            "conv2d_4 (Conv2D)            (None, 58, 58, 128)       73856     \n",
            "_________________________________________________________________\n",
            "batch_normalization_2 (Batch (None, 58, 58, 128)       512       \n",
            "_________________________________________________________________\n",
            "conv2d_5 (Conv2D)            (None, 56, 56, 128)       147584    \n",
            "_________________________________________________________________\n",
            "max_pooling2d_2 (MaxPooling2 (None, 28, 28, 128)       0         \n",
            "_________________________________________________________________\n",
            "flatten (Flatten)            (None, 100352)            0         \n",
            "_________________________________________________________________\n",
            "dense (Dense)                (None, 128)               12845184  \n",
            "_________________________________________________________________\n",
            "dense_1 (Dense)              (None, 128)               16512     \n",
            "_________________________________________________________________\n",
            "dropout (Dropout)            (None, 128)               0         \n",
            "_________________________________________________________________\n",
            "dense_2 (Dense)              (None, 3)                 387       \n",
            "=================================================================\n",
            "Total params: 13,149,411\n",
            "Trainable params: 13,148,963\n",
            "Non-trainable params: 448\n",
            "_________________________________________________________________\n",
            "Epoch 1/15\n",
            "608/608 - 4896s - loss: 0.6909 - accuracy: 0.7394 - val_loss: 0.4265 - val_accuracy: 0.8274\n",
            "Epoch 2/15\n",
            "608/608 - 105s - loss: 0.4514 - accuracy: 0.8154 - val_loss: 0.7134 - val_accuracy: 0.7983\n",
            "Epoch 3/15\n",
            "608/608 - 104s - loss: 0.3898 - accuracy: 0.8502 - val_loss: 0.3402 - val_accuracy: 0.8721\n",
            "Epoch 4/15\n",
            "608/608 - 106s - loss: 0.3475 - accuracy: 0.8730 - val_loss: 0.4770 - val_accuracy: 0.8233\n",
            "Epoch 5/15\n",
            "608/608 - 105s - loss: 0.3201 - accuracy: 0.8854 - val_loss: 0.2600 - val_accuracy: 0.9053\n",
            "Epoch 6/15\n",
            "608/608 - 105s - loss: 0.3086 - accuracy: 0.8941 - val_loss: 0.2739 - val_accuracy: 0.9014\n",
            "Epoch 7/15\n",
            "608/608 - 107s - loss: 0.2731 - accuracy: 0.9040 - val_loss: 0.2114 - val_accuracy: 0.9248\n",
            "Epoch 8/15\n",
            "608/608 - 104s - loss: 0.2567 - accuracy: 0.9128 - val_loss: 0.3290 - val_accuracy: 0.8873\n",
            "Epoch 9/15\n",
            "608/608 - 105s - loss: 0.2520 - accuracy: 0.9128 - val_loss: 0.2348 - val_accuracy: 0.9173\n",
            "Epoch 10/15\n",
            "608/608 - 105s - loss: 0.2344 - accuracy: 0.9182 - val_loss: 0.5177 - val_accuracy: 0.8262\n",
            "Epoch 11/15\n",
            "608/608 - 105s - loss: 0.2287 - accuracy: 0.9193 - val_loss: 0.2462 - val_accuracy: 0.9156\n",
            "Epoch 12/15\n",
            "608/608 - 105s - loss: 0.2115 - accuracy: 0.9263 - val_loss: 0.3261 - val_accuracy: 0.8709\n",
            "Epoch 13/15\n",
            "608/608 - 106s - loss: 0.1993 - accuracy: 0.9294 - val_loss: 1.0752 - val_accuracy: 0.6517\n",
            "Epoch 14/15\n",
            "608/608 - 104s - loss: 0.1875 - accuracy: 0.9334 - val_loss: 0.5139 - val_accuracy: 0.8565\n",
            "Epoch 15/15\n",
            "608/608 - 105s - loss: 0.1870 - accuracy: 0.9345 - val_loss: 0.1780 - val_accuracy: 0.9385\n"
          ],
          "name": "stdout"
        }
      ]
    },
    {
      "cell_type": "code",
      "metadata": {
        "id": "V3zBqPerheE5",
        "colab": {
          "base_uri": "https://localhost:8080/"
        },
        "outputId": "3691b6fb-d038-4b4c-d0d2-9b9084390c8b"
      },
      "source": [
        "scores = finalmodel.evaluate_generator(test_set, steps=len(test_set))\n",
        "print(scores)\n",
        "print('Model accuracy: {}'.format(scores[1]))"
      ],
      "execution_count": null,
      "outputs": [
        {
          "output_type": "stream",
          "text": [
            "/usr/local/lib/python3.7/dist-packages/keras/engine/training.py:1948: UserWarning: `Model.evaluate_generator` is deprecated and will be removed in a future version. Please use `Model.evaluate`, which supports generators.\n",
            "  warnings.warn('`Model.evaluate_generator` is deprecated and '\n"
          ],
          "name": "stderr"
        },
        {
          "output_type": "stream",
          "text": [
            "[0.19076022505760193, 0.9348557591438293]\n",
            "Model accuracy: 0.9348557591438293\n"
          ],
          "name": "stdout"
        }
      ]
    },
    {
      "cell_type": "code",
      "metadata": {
        "id": "jo70FdLpmvys",
        "colab": {
          "base_uri": "https://localhost:8080/"
        },
        "outputId": "e4421df2-55be-455e-e06e-da68b30c89d9"
      },
      "source": [
        "plt.subplot(2,1,1)\n",
        "plt.plot(history.history['accuracy'])\n",
        "plt.plot(history.history['val_accuracy'])\n",
        "plt.title('model accuracy')\n",
        "plt.ylabel('accuracy')\n",
        "plt.xlabel('epoch')\n",
        "plt.legend(['train', 'test'], loc='lower right')\n",
        "\n",
        "plt.subplot(2,1,2)\n",
        "plt.plot(history.history['loss'])\n",
        "plt.plot(history.history['val_loss'])\n",
        "plt.title('model loss')\n",
        "plt.ylabel('loss')\n",
        "plt.xlabel('epoch')\n",
        "plt.legend(['train', 'test'], loc='upper right')\n",
        "\n",
        "plt.show()"
      ],
      "execution_count": null,
      "outputs": [
        {
          "output_type": "display_data",
          "data": {
            "image/png": "[encoded data removed]",
            "text/plain": [
              "<Figure size 432x288 with 2 Axes>"
            ]
          },
          "metadata": {
            "tags": [],
            "needs_background": "light"
          }
        }
      ]
    }
  ]
}